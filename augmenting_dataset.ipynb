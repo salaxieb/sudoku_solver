{
 "cells": [
  {
   "cell_type": "code",
   "execution_count": 56,
   "id": "e5ec5d20",
   "metadata": {},
   "outputs": [],
   "source": [
    "legit = [\n",
    "    'Apple SD Gothic Neo',\n",
    "    'Menlo',\n",
    "    'Heiti TC',\n",
    "    'Geneva',\n",
    "    'Hiragino Sans GB',\n",
    "    'Helvetica Neue',\n",
    "    '.SF NS Mono',\n",
    "    'Hiragino Sans',\n",
    "    'PingFang HK',\n",
    "    'Noteworthy',\n",
    "    'Hiragino Sans',\n",
    "    'Optima',\n",
    "    'Avenir Next Condensed',\n",
    "    'Lucida Grande',\n",
    "    'Courier',\n",
    "]"
   ]
  },
  {
   "cell_type": "code",
   "execution_count": 149,
   "id": "d6a08a5c",
   "metadata": {},
   "outputs": [],
   "source": [
    "from glob import iglob\n",
    "from PIL import Image, ImageDraw, ImageFont\n",
    "from fnmatch import fnmatch\n",
    "\n",
    "pangram = \"Pack my box with five dozen liquor jugs.\"\n",
    "\n",
    "fonts = []\n",
    "\n",
    "for fn in sorted(iglob(\"/System/Library/Fonts/*.tt*\")):\n",
    "    if not fnmatch(fn, \"*.tt[cf]\"):\n",
    "        continue\n",
    "    for i in range(5):\n",
    "        try:\n",
    "            for size in range(10, 15):\n",
    "                font = ImageFont.truetype(font=fn, size=15, index=i)\n",
    "                if font.getname()[0] == 'Courier' and i > 0:\n",
    "                    break\n",
    "                if font.getname()[0] in legit:\n",
    "                    fonts.append(font)\n",
    "                else:\n",
    "                    pass\n",
    "        except:\n",
    "            break\n",
    "            \n",
    "fonts = fonts"
   ]
  },
  {
   "cell_type": "code",
   "execution_count": 150,
   "id": "90afe6cf",
   "metadata": {},
   "outputs": [],
   "source": [
    "texts = [\n",
    "    str(font.getname()) + '1 2 3 4 5 6 7 8 9'\n",
    "    for font in fonts\n",
    "]\n",
    "\n",
    "size = [0, 0]\n",
    "for font, txt in zip(fonts, texts):\n",
    "    try:\n",
    "        s = font.getsize(txt)\n",
    "    except OSError:\n",
    "        s = (0, 0)\n",
    "    size = [max(size[0], s[0]), size[1] + s[1]]\n",
    "#\n",
    "\n",
    "img = Image.new(\"L\", size, 255)\n",
    "draw = ImageDraw.Draw(img)\n",
    "y = 0\n",
    "for font, txt in zip(fonts, texts):\n",
    "    draw.text((0, y), txt, font=font, fill=0)\n",
    "    try:\n",
    "        y += font.getsize(txt)[1]\n",
    "    except:\n",
    "        pass\n",
    "# img.show()\n",
    "del draw"
   ]
  },
  {
   "cell_type": "code",
   "execution_count": 180,
   "id": "769a3e8c",
   "metadata": {},
   "outputs": [
    {
     "data": {
      "text/plain": [
       "(<matplotlib.image.AxesImage at 0x2d75a1460>, 4)"
      ]
     },
     "execution_count": 180,
     "metadata": {},
     "output_type": "execute_result"
    },
    {
     "data": {
      "image/png": "[encoded data removed]",
      "text/plain": [
       "<Figure size 432x288 with 1 Axes>"
      ]
     },
     "metadata": {
      "needs_background": "light"
     },
     "output_type": "display_data"
    }
   ],
   "source": [
    "import random\n",
    "import numpy as np\n",
    "from matplotlib import pyplot as plt\n",
    "from PIL import Image, ImageDraw, ImageFont\n",
    "\n",
    "class ImageGenerator:\n",
    "    def __init__(\n",
    "        self,\n",
    "        fonts,\n",
    "        output_size=(28, 28),\n",
    "        symbols = '123456789'\n",
    "    ):\n",
    "        self.fonts = fonts\n",
    "        self.output_size = output_size\n",
    "        self.symbols = symbols\n",
    "        \n",
    "    def add_margin(self, pil_img, top, right, bottom, left, color):\n",
    "        width, height = pil_img.size\n",
    "        new_width = width + right + left\n",
    "        new_height = height + top + bottom\n",
    "        result = Image.new(mode=pil_img.mode, size = (new_width, new_height), color=color)\n",
    "        result.paste(pil_img, (left, top))\n",
    "        return result\n",
    "    \n",
    "    def expand2square(self, pil_img, background_color):\n",
    "        width, height = pil_img.size\n",
    "        if width == height:\n",
    "            return pil_img\n",
    "        elif width > height:\n",
    "            result = Image.new(pil_img.mode, (width, width), background_color)\n",
    "            result.paste(pil_img, (0, (width - height) // 2))\n",
    "            return result\n",
    "        else:\n",
    "            result = Image.new(pil_img.mode, (height, height), background_color)\n",
    "            result.paste(pil_img, ((height - width) // 2, 0))\n",
    "            return result\n",
    "    \n",
    "    def generate_one(self):\n",
    "        font = random.choice(self.fonts)\n",
    "        symbol = random.choice(list(self.symbols))\n",
    "        size = font.getsize(symbol)\n",
    "        \n",
    "        img = Image.new(\"L\", size, 255)\n",
    "        draw = ImageDraw.Draw(img)\n",
    "        draw.text((0, 0), symbol, font=font, fill=random.randint(0, 100))\n",
    "        min_shift = 0\n",
    "        max_shift = 3\n",
    "        img = self.add_margin(\n",
    "            img,\n",
    "            random.randint(min_shift, max_shift),\n",
    "            random.randint(min_shift, max_shift),\n",
    "            random.randint(min_shift, max_shift),\n",
    "            random.randint(min_shift, max_shift),\n",
    "            255,\n",
    "        )\n",
    "        img = self.expand2square(img, 255)\n",
    "        img = img.resize((28, 28), Image.ANTIALIAS)\n",
    "        return img, int(symbol)\n",
    "\n",
    "g = ImageGenerator(fonts) \n",
    "img, nb = g.generate_one()\n",
    "plt.imshow(img, cmap='gray', vmin=0, vmax=255), nb"
   ]
  }
 ],
 "metadata": {
  "kernelspec": {
   "display_name": "sudoku_solver",
   "language": "python",
   "name": "sudoku_solver"
  },
  "language_info": {
   "codemirror_mode": {
    "name": "ipython",
    "version": 3
   },
   "file_extension": ".py",
   "mimetype": "text/x-python",
   "name": "python",
   "nbconvert_exporter": "python",
   "pygments_lexer": "ipython3",
   "version": "3.8.6"
  }
 },
 "nbformat": 4,
 "nbformat_minor": 5
}
